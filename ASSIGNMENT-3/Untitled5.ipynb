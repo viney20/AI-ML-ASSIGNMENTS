{
 "cells": [
  {
   "cell_type": "code",
   "execution_count": 3,
   "metadata": {},
   "outputs": [
    {
     "name": "stdout",
     "output_type": "stream",
     "text": [
      "Enter The Probability Of A 11/36\n",
      "Enter The Probability Of B 6/36\n",
      "Enter The Probability Of A|B 2/36\n",
      "Probability Of B|A  0.0303030303030303\n"
     ]
    }
   ],
   "source": [
    "#Question 1\n",
    "\n",
    "a=((input(\"Enter The Probability Of A \")).split('/'))\n",
    "a=int(a[0])/int(a[1])\n",
    "\n",
    "b=((input(\"Enter The Probability Of B \")).split('/'))\n",
    "b=int(b[0])/int(b[1])\n",
    "\n",
    "ab=((input(\"Enter The Probability Of A|B \")).split('/'))\n",
    "ab=int(ab[0])/int(ab[1])\n",
    "\n",
    "#Formula   P(A|B)=(P(B|A)*P(A))/P(B)\n",
    "\n",
    "print(\"Probability Of B|A \",(ab*b)/a)"
   ]
  },
  {
   "cell_type": "code",
   "execution_count": 2,
   "metadata": {},
   "outputs": [
    {
     "name": "stdout",
     "output_type": "stream",
     "text": [
      "Probability Of The Getting A Black Ball P(A) Is =  0.5142857142857142\n",
      "Probability Of The Getting First Bag Is P(B)=  0.5\n",
      "Probability Of The Getting A Black Ball Given It Is First Bag Is P(A|B)=  0.6\n",
      "Probability Of The Getting A First Bag Given It Black Ball Is P(B|A)=  0.5833333333333334\n"
     ]
    }
   ],
   "source": [
    "#Question 2\n",
    "\n",
    "#Bag I contains 4 white and 6 black balls while another Bag II contains 4 white and 3 black balls. One ball is drawn at random\n",
    "#from one of the bags and it is found to be black.Find the probability that it was drawn from Bag I.\n",
    "\n",
    "a=((6/10)*(1/2))+((3/7)*(1/2))\n",
    "print(\"Probability Of The Getting A Black Ball P(A) Is = \",a) \n",
    "\n",
    "b=1/2\n",
    "print(\"Probability Of The Getting First Bag Is P(B)= \",b) \n",
    "\n",
    "ab=3/5\n",
    "print(\"Probability Of The Getting A Black Ball Given It Is First Bag Is P(A|B)= \",ab)\n",
    "\n",
    "#Formula   P(A|B)=(P(B|A)*P(A))/P(B)\n",
    "\n",
    "ba=(ab*b)/a\n",
    "print(\"Probability Of The Getting A First Bag Given It Black Ball Is P(B|A)= \",ba)"
   ]
  },
  {
   "cell_type": "code",
   "execution_count": 4,
   "metadata": {},
   "outputs": [
    {
     "name": "stdout",
     "output_type": "stream",
     "text": [
      "Probability the number is actually a four =  0.28571428571428564\n"
     ]
    }
   ],
   "source": [
    "#Question 3\n",
    "#A man is known to speak truth 2 out of 3 times. He throws a die and reports that number obtained is a four. Find the probability \n",
    "#that the number obtained is actually a four.\n",
    "\n",
    "a=1/6 #probability four occurs\n",
    "b=5/6 #probability four does not occur\n",
    "ca=2/3 #person speaks truth\n",
    "cb=1-(2/3) #person speaks lie\n",
    "\n",
    "#according to baye's theorm\n",
    "\n",
    "#P ( A/C ) = (P(A) x P ( C/A) ) / ( P(A) x P ( C/A) + P(B) x P ( C/B) )\n",
    "\n",
    "ac=(a*ca/((a*ca)+(b*cb)))\n",
    "print(\"Probability the number is actually a four = \",ac)"
   ]
  },
  {
   "cell_type": "code",
   "execution_count": null,
   "metadata": {},
   "outputs": [],
   "source": []
  }
 ],
 "metadata": {
  "kernelspec": {
   "display_name": "Python 3",
   "language": "python",
   "name": "python3"
  },
  "language_info": {
   "codemirror_mode": {
    "name": "ipython",
    "version": 3
   },
   "file_extension": ".py",
   "mimetype": "text/x-python",
   "name": "python",
   "nbconvert_exporter": "python",
   "pygments_lexer": "ipython3",
   "version": "3.6.2"
  }
 },
 "nbformat": 4,
 "nbformat_minor": 2
}
